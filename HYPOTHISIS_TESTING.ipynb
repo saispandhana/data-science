{
  "nbformat": 4,
  "nbformat_minor": 0,
  "metadata": {
    "colab": {
      "provenance": []
    },
    "kernelspec": {
      "name": "python3",
      "display_name": "Python 3"
    },
    "language_info": {
      "name": "python"
    }
  },
  "cells": [
    {
      "cell_type": "code",
      "execution_count": 2,
      "metadata": {
        "id": "jcw5pifxq4Td"
      },
      "outputs": [],
      "source": [
        "import pandas as pd\n",
        "import numpy as np\n",
        "from scipy import stats\n",
        "import pandas as pd\n",
        "import numpy as np\n",
        "\n"
      ]
    },
    {
      "cell_type": "code",
      "source": [
        "# Create a DataFrame with the sample data\n",
        "data = {'X': np.random.normal(600, 25, 25),\n",
        "        'W': np.zeros(25)}\n",
        "df = pd.DataFrame(data)\n",
        "df = pd.DataFrame(data)\n",
        "\n",
        "# Calculate the theoretical weekly operating cost\n",
        "df['W'] = 1000 + 5 * df['X']\n",
        "\n",
        "# Calculate the sample mean weekly cost\n",
        "sample_mean = df['W'].mean()\n",
        "\n",
        "# Perform a one-sample t-test\n",
        "t_stat, p_value = stats.ttest_1samp(df['W'], 3050)\n",
        "\n",
        "# Print the results\n",
        "print(f'Sample mean weekly cost: {sample_mean}')\n",
        "print(f'T-statistic: {t_stat}')\n",
        "print(f'P-value: {p_value}')"
      ],
      "metadata": {
        "colab": {
          "base_uri": "https://localhost:8080/"
        },
        "id": "TQRnd6Vjtvo8",
        "outputId": "fc06db4a-b3fa-43ac-a366-3885dc778f5b"
      },
      "execution_count": 3,
      "outputs": [
        {
          "output_type": "stream",
          "name": "stdout",
          "text": [
            "Sample mean weekly cost: 4034.3928819851117\n",
            "T-statistic: 34.17017216840313\n",
            "P-value: 7.25025658563819e-22\n"
          ]
        }
      ]
    },
    {
      "cell_type": "code",
      "source": [
        "theoretical_mean = 1000 + 5 * 600\n",
        "\n",
        "# Calculate the standard deviation\n",
        "std_dev = 5 * 25\n",
        "\n",
        "# Calculate the sample mean\n",
        "sample_mean = 3050\n",
        "\n",
        "# Calculate the sample size\n",
        "n = 25\n",
        "\n",
        "# Calculate the test statistic\n",
        "t_stat = (sample_mean - theoretical_mean) / (std_dev / np.sqrt(n))\n",
        "\n",
        "# Print the test statistic\n",
        "print(f'Test statistic: {t_stat}')\n",
        "\n",
        "alpha = 0.05\n",
        "\n",
        "# Calculate the critical value from the standard normal distribution\n",
        "critical_value = stats.norm.ppf(1 - alpha / 2)\n",
        "\n",
        "# Print the critical value\n",
        "print(f'Critical value: {critical_value}')\n",
        "if abs(t_stat) > critical_value:\n",
        "    print(\"Reject the null hypothesis\")\n",
        "else:\n",
        "    print(\"Fail to reject the null hypothesis\")\n"
      ],
      "metadata": {
        "colab": {
          "base_uri": "https://localhost:8080/"
        },
        "id": "fp1r5WU5uG53",
        "outputId": "18c3e84f-3d5f-4ad3-c696-535d1cd4c9f2"
      },
      "execution_count": 4,
      "outputs": [
        {
          "output_type": "stream",
          "name": "stdout",
          "text": [
            "Test statistic: -38.0\n",
            "Critical value: 1.959963984540054\n",
            "Reject the null hypothesis\n"
          ]
        }
      ]
    },
    {
      "cell_type": "code",
      "source": [],
      "metadata": {
        "id": "HNdeVc5zuNEN"
      },
      "execution_count": null,
      "outputs": []
    }
  ]
}