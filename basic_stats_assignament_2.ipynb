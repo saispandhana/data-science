{
  "nbformat": 4,
  "nbformat_minor": 0,
  "metadata": {
    "colab": {
      "provenance": []
    },
    "kernelspec": {
      "name": "python3",
      "display_name": "Python 3"
    },
    "language_info": {
      "name": "python"
    }
  },
  "cells": [
    {
      "cell_type": "code",
      "execution_count": 18,
      "metadata": {
        "id": "BcT3qKlySmd3"
      },
      "outputs": [],
      "source": [
        "from scipy import stats\n",
        "import pandas as pd\n",
        "import numpy as np"
      ]
    },
    {
      "cell_type": "code",
      "source": [
        "x= 1.13, 1.55, 1.43, 0.92, 1.25, 1.36, 1.32, 0.85, 1.07, 1.48, 1.20, 1.33, 1.18, 1.22, 1.29\n",
        "print(x)\n",
        "#stats"
      ],
      "metadata": {
        "colab": {
          "base_uri": "https://localhost:8080/"
        },
        "id": "ewg0NxLlTrDf",
        "outputId": "3c9d0ec6-90c4-4072-fc55-d417671377e4"
      },
      "execution_count": 19,
      "outputs": [
        {
          "output_type": "stream",
          "name": "stdout",
          "text": [
            "(1.13, 1.55, 1.43, 0.92, 1.25, 1.36, 1.32, 0.85, 1.07, 1.48, 1.2, 1.33, 1.18, 1.22, 1.29)\n"
          ]
        }
      ]
    },
    {
      "cell_type": "code",
      "source": [
        "loc = np.mean(x)\n",
        "scale= np.std(x)\n",
        "stats.norm.interval(0.95, loc=loc,scale=scale)\n",
        "print('Gain at 99% confidence interval is:',np.round(scale,4))\n"
      ],
      "metadata": {
        "id": "1tO4C2sAh_57",
        "outputId": "cbcb182f-b04b-4d43-da6e-9e1692436d8d",
        "colab": {
          "base_uri": "https://localhost:8080/"
        }
      },
      "execution_count": 22,
      "outputs": [
        {
          "output_type": "stream",
          "name": "stdout",
          "text": [
            "Gain at 99% confidence interval is: 0.1866\n"
          ]
        }
      ]
    },
    {
      "cell_type": "code",
      "source": [
        "population_stats_dev =0.2\n",
        "std_error=population_stats_dev /np.sqrt(len(x))\n",
        "confidence_interval = stats.norm.interval(0.99,loc=np.mean(x),scale=std_error)\n",
        "print('Gain at 99% confidence interval is:',np.round(confidence_interval,4))\n"
      ],
      "metadata": {
        "id": "eU8BBhZeiGAo",
        "outputId": "c77272e4-2320-4787-c75f-a0a2299024c5",
        "colab": {
          "base_uri": "https://localhost:8080/"
        }
      },
      "execution_count": 30,
      "outputs": [
        {
          "output_type": "stream",
          "name": "stdout",
          "text": [
            "Gain at 99% confidence interval is: [1.1057 1.3717]\n"
          ]
        }
      ]
    },
    {
      "cell_type": "code",
      "source": [],
      "metadata": {
        "id": "TiMyxeLtVrdq"
      },
      "execution_count": null,
      "outputs": []
    }
  ]
}